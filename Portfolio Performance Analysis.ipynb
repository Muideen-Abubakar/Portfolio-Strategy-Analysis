{
 "cells": [
  {
   "cell_type": "markdown",
   "id": "b2fcdb24",
   "metadata": {},
   "source": [
    "## Step 1"
   ]
  },
  {
   "cell_type": "code",
   "execution_count": 73,
   "id": "5db8ba31",
   "metadata": {},
   "outputs": [],
   "source": [
    "import pandas as pd\n",
    "import numpy as np\n",
    "from scipy.stats import norm \n",
    "from scipy.stats import skew\n",
    "import seaborn as sns\n",
    "import matplotlib.pyplot as plt\n",
    "from datetime import date, timedelta, datetime\n",
    "import statsmodels.api as sm"
   ]
  },
  {
   "cell_type": "code",
   "execution_count": 74,
   "id": "30875d1c",
   "metadata": {},
   "outputs": [],
   "source": [
    "data = pd.read_csv('/Users/user/Documents/MSc BDF /Risk Analysis and Asset Allocation/data_IH.csv')"
   ]
  },
  {
   "cell_type": "code",
   "execution_count": 75,
   "id": "3b621edd",
   "metadata": {},
   "outputs": [
    {
     "data": {
      "text/html": [
       "<div>\n",
       "<style scoped>\n",
       "    .dataframe tbody tr th:only-of-type {\n",
       "        vertical-align: middle;\n",
       "    }\n",
       "\n",
       "    .dataframe tbody tr th {\n",
       "        vertical-align: top;\n",
       "    }\n",
       "\n",
       "    .dataframe thead th {\n",
       "        text-align: right;\n",
       "    }\n",
       "</style>\n",
       "<table border=\"1\" class=\"dataframe\">\n",
       "  <thead>\n",
       "    <tr style=\"text-align: right;\">\n",
       "      <th></th>\n",
       "      <th>Date</th>\n",
       "      <th>Equity</th>\n",
       "      <th>F.Income</th>\n",
       "    </tr>\n",
       "  </thead>\n",
       "  <tbody>\n",
       "    <tr>\n",
       "      <th>0</th>\n",
       "      <td>29/09/2003</td>\n",
       "      <td>1006.58</td>\n",
       "      <td>57.185429</td>\n",
       "    </tr>\n",
       "    <tr>\n",
       "      <th>1</th>\n",
       "      <td>30/09/2003</td>\n",
       "      <td>995.97</td>\n",
       "      <td>57.482021</td>\n",
       "    </tr>\n",
       "    <tr>\n",
       "      <th>2</th>\n",
       "      <td>01/10/2003</td>\n",
       "      <td>1018.22</td>\n",
       "      <td>57.454086</td>\n",
       "    </tr>\n",
       "    <tr>\n",
       "      <th>3</th>\n",
       "      <td>02/10/2003</td>\n",
       "      <td>1020.24</td>\n",
       "      <td>57.364563</td>\n",
       "    </tr>\n",
       "    <tr>\n",
       "      <th>4</th>\n",
       "      <td>03/10/2003</td>\n",
       "      <td>1029.85</td>\n",
       "      <td>56.950291</td>\n",
       "    </tr>\n",
       "  </tbody>\n",
       "</table>\n",
       "</div>"
      ],
      "text/plain": [
       "         Date   Equity   F.Income\n",
       "0  29/09/2003  1006.58  57.185429\n",
       "1  30/09/2003   995.97  57.482021\n",
       "2  01/10/2003  1018.22  57.454086\n",
       "3  02/10/2003  1020.24  57.364563\n",
       "4  03/10/2003  1029.85  56.950291"
      ]
     },
     "execution_count": 75,
     "metadata": {},
     "output_type": "execute_result"
    }
   ],
   "source": [
    "data.head()"
   ]
  },
  {
   "cell_type": "code",
   "execution_count": 76,
   "id": "a37bfab9",
   "metadata": {},
   "outputs": [
    {
     "data": {
      "text/html": [
       "<div>\n",
       "<style scoped>\n",
       "    .dataframe tbody tr th:only-of-type {\n",
       "        vertical-align: middle;\n",
       "    }\n",
       "\n",
       "    .dataframe tbody tr th {\n",
       "        vertical-align: top;\n",
       "    }\n",
       "\n",
       "    .dataframe thead th {\n",
       "        text-align: right;\n",
       "    }\n",
       "</style>\n",
       "<table border=\"1\" class=\"dataframe\">\n",
       "  <thead>\n",
       "    <tr style=\"text-align: right;\">\n",
       "      <th></th>\n",
       "      <th>Date</th>\n",
       "      <th>Equity</th>\n",
       "      <th>F.Income</th>\n",
       "    </tr>\n",
       "  </thead>\n",
       "  <tbody>\n",
       "    <tr>\n",
       "      <th>0</th>\n",
       "      <td>2003-09-29</td>\n",
       "      <td>1006.58</td>\n",
       "      <td>57.185429</td>\n",
       "    </tr>\n",
       "    <tr>\n",
       "      <th>1</th>\n",
       "      <td>2003-09-30</td>\n",
       "      <td>995.97</td>\n",
       "      <td>57.482021</td>\n",
       "    </tr>\n",
       "    <tr>\n",
       "      <th>2</th>\n",
       "      <td>2003-10-01</td>\n",
       "      <td>1018.22</td>\n",
       "      <td>57.454086</td>\n",
       "    </tr>\n",
       "    <tr>\n",
       "      <th>3</th>\n",
       "      <td>2003-10-02</td>\n",
       "      <td>1020.24</td>\n",
       "      <td>57.364563</td>\n",
       "    </tr>\n",
       "    <tr>\n",
       "      <th>4</th>\n",
       "      <td>2003-10-03</td>\n",
       "      <td>1029.85</td>\n",
       "      <td>56.950291</td>\n",
       "    </tr>\n",
       "  </tbody>\n",
       "</table>\n",
       "</div>"
      ],
      "text/plain": [
       "        Date   Equity   F.Income\n",
       "0 2003-09-29  1006.58  57.185429\n",
       "1 2003-09-30   995.97  57.482021\n",
       "2 2003-10-01  1018.22  57.454086\n",
       "3 2003-10-02  1020.24  57.364563\n",
       "4 2003-10-03  1029.85  56.950291"
      ]
     },
     "execution_count": 76,
     "metadata": {},
     "output_type": "execute_result"
    }
   ],
   "source": [
    "#Convert the Date column to datetime format\n",
    "\n",
    "data['Date'] = pd.to_datetime(data['Date'], dayfirst = True)\n",
    "\n",
    "data.head()"
   ]
  },
  {
   "cell_type": "code",
   "execution_count": 77,
   "id": "0f7590e9",
   "metadata": {},
   "outputs": [],
   "source": [
    "#Select only the month end figures\n",
    "monthly_data = data.resample('M', on = 'Date').last()"
   ]
  },
  {
   "cell_type": "code",
   "execution_count": 78,
   "id": "0d0eaa20",
   "metadata": {},
   "outputs": [
    {
     "data": {
      "text/html": [
       "<div>\n",
       "<style scoped>\n",
       "    .dataframe tbody tr th:only-of-type {\n",
       "        vertical-align: middle;\n",
       "    }\n",
       "\n",
       "    .dataframe tbody tr th {\n",
       "        vertical-align: top;\n",
       "    }\n",
       "\n",
       "    .dataframe thead th {\n",
       "        text-align: right;\n",
       "    }\n",
       "</style>\n",
       "<table border=\"1\" class=\"dataframe\">\n",
       "  <thead>\n",
       "    <tr style=\"text-align: right;\">\n",
       "      <th></th>\n",
       "      <th>Date</th>\n",
       "      <th>Equity</th>\n",
       "      <th>F.Income</th>\n",
       "    </tr>\n",
       "    <tr>\n",
       "      <th>Date</th>\n",
       "      <th></th>\n",
       "      <th></th>\n",
       "      <th></th>\n",
       "    </tr>\n",
       "  </thead>\n",
       "  <tbody>\n",
       "    <tr>\n",
       "      <th>2003-09-30</th>\n",
       "      <td>2003-09-30</td>\n",
       "      <td>995.97</td>\n",
       "      <td>57.482021</td>\n",
       "    </tr>\n",
       "    <tr>\n",
       "      <th>2003-10-31</th>\n",
       "      <td>2003-10-31</td>\n",
       "      <td>1050.71</td>\n",
       "      <td>56.944702</td>\n",
       "    </tr>\n",
       "    <tr>\n",
       "      <th>2003-11-30</th>\n",
       "      <td>2003-11-28</td>\n",
       "      <td>1058.20</td>\n",
       "      <td>57.135136</td>\n",
       "    </tr>\n",
       "    <tr>\n",
       "      <th>2003-12-31</th>\n",
       "      <td>2003-12-31</td>\n",
       "      <td>1111.92</td>\n",
       "      <td>57.694630</td>\n",
       "    </tr>\n",
       "    <tr>\n",
       "      <th>2004-01-31</th>\n",
       "      <td>2004-01-30</td>\n",
       "      <td>1131.13</td>\n",
       "      <td>57.948776</td>\n",
       "    </tr>\n",
       "    <tr>\n",
       "      <th>...</th>\n",
       "      <td>...</td>\n",
       "      <td>...</td>\n",
       "      <td>...</td>\n",
       "    </tr>\n",
       "    <tr>\n",
       "      <th>2021-09-30</th>\n",
       "      <td>2021-09-30</td>\n",
       "      <td>4307.54</td>\n",
       "      <td>114.026978</td>\n",
       "    </tr>\n",
       "    <tr>\n",
       "      <th>2021-10-31</th>\n",
       "      <td>2021-10-29</td>\n",
       "      <td>4605.38</td>\n",
       "      <td>114.017029</td>\n",
       "    </tr>\n",
       "    <tr>\n",
       "      <th>2021-11-30</th>\n",
       "      <td>2021-11-30</td>\n",
       "      <td>4567.00</td>\n",
       "      <td>114.325836</td>\n",
       "    </tr>\n",
       "    <tr>\n",
       "      <th>2021-12-31</th>\n",
       "      <td>2021-12-31</td>\n",
       "      <td>4766.18</td>\n",
       "      <td>113.915718</td>\n",
       "    </tr>\n",
       "    <tr>\n",
       "      <th>2022-01-31</th>\n",
       "      <td>2022-01-31</td>\n",
       "      <td>4515.55</td>\n",
       "      <td>111.639008</td>\n",
       "    </tr>\n",
       "  </tbody>\n",
       "</table>\n",
       "<p>221 rows × 3 columns</p>\n",
       "</div>"
      ],
      "text/plain": [
       "                 Date   Equity    F.Income\n",
       "Date                                      \n",
       "2003-09-30 2003-09-30   995.97   57.482021\n",
       "2003-10-31 2003-10-31  1050.71   56.944702\n",
       "2003-11-30 2003-11-28  1058.20   57.135136\n",
       "2003-12-31 2003-12-31  1111.92   57.694630\n",
       "2004-01-31 2004-01-30  1131.13   57.948776\n",
       "...               ...      ...         ...\n",
       "2021-09-30 2021-09-30  4307.54  114.026978\n",
       "2021-10-31 2021-10-29  4605.38  114.017029\n",
       "2021-11-30 2021-11-30  4567.00  114.325836\n",
       "2021-12-31 2021-12-31  4766.18  113.915718\n",
       "2022-01-31 2022-01-31  4515.55  111.639008\n",
       "\n",
       "[221 rows x 3 columns]"
      ]
     },
     "execution_count": 78,
     "metadata": {},
     "output_type": "execute_result"
    }
   ],
   "source": [
    "monthly_data"
   ]
  },
  {
   "cell_type": "code",
   "execution_count": 79,
   "id": "43e2a283",
   "metadata": {},
   "outputs": [],
   "source": [
    "#Drop the Date column as it is redundant\n",
    "monthly_data = monthly_data.drop(['Date'], axis = 1)"
   ]
  },
  {
   "cell_type": "code",
   "execution_count": 80,
   "id": "ff3ce123",
   "metadata": {},
   "outputs": [
    {
     "data": {
      "text/plain": [
       "False"
      ]
     },
     "execution_count": 80,
     "metadata": {},
     "output_type": "execute_result"
    }
   ],
   "source": [
    "#Check if there are NaN values\n",
    "\n",
    "monthly_data.isnull().values.any()"
   ]
  },
  {
   "cell_type": "code",
   "execution_count": 81,
   "id": "6d2e70de",
   "metadata": {},
   "outputs": [
    {
     "data": {
      "text/html": [
       "<div>\n",
       "<style scoped>\n",
       "    .dataframe tbody tr th:only-of-type {\n",
       "        vertical-align: middle;\n",
       "    }\n",
       "\n",
       "    .dataframe tbody tr th {\n",
       "        vertical-align: top;\n",
       "    }\n",
       "\n",
       "    .dataframe thead th {\n",
       "        text-align: right;\n",
       "    }\n",
       "</style>\n",
       "<table border=\"1\" class=\"dataframe\">\n",
       "  <thead>\n",
       "    <tr style=\"text-align: right;\">\n",
       "      <th></th>\n",
       "      <th>Equity</th>\n",
       "      <th>F.Income</th>\n",
       "    </tr>\n",
       "    <tr>\n",
       "      <th>Date</th>\n",
       "      <th></th>\n",
       "      <th></th>\n",
       "    </tr>\n",
       "  </thead>\n",
       "  <tbody>\n",
       "    <tr>\n",
       "      <th>2003-09-30</th>\n",
       "      <td>995.97</td>\n",
       "      <td>57.482021</td>\n",
       "    </tr>\n",
       "    <tr>\n",
       "      <th>2003-10-31</th>\n",
       "      <td>1050.71</td>\n",
       "      <td>56.944702</td>\n",
       "    </tr>\n",
       "    <tr>\n",
       "      <th>2003-11-30</th>\n",
       "      <td>1058.20</td>\n",
       "      <td>57.135136</td>\n",
       "    </tr>\n",
       "    <tr>\n",
       "      <th>2003-12-31</th>\n",
       "      <td>1111.92</td>\n",
       "      <td>57.694630</td>\n",
       "    </tr>\n",
       "    <tr>\n",
       "      <th>2004-01-31</th>\n",
       "      <td>1131.13</td>\n",
       "      <td>57.948776</td>\n",
       "    </tr>\n",
       "    <tr>\n",
       "      <th>...</th>\n",
       "      <td>...</td>\n",
       "      <td>...</td>\n",
       "    </tr>\n",
       "    <tr>\n",
       "      <th>2021-09-30</th>\n",
       "      <td>4307.54</td>\n",
       "      <td>114.026978</td>\n",
       "    </tr>\n",
       "    <tr>\n",
       "      <th>2021-10-31</th>\n",
       "      <td>4605.38</td>\n",
       "      <td>114.017029</td>\n",
       "    </tr>\n",
       "    <tr>\n",
       "      <th>2021-11-30</th>\n",
       "      <td>4567.00</td>\n",
       "      <td>114.325836</td>\n",
       "    </tr>\n",
       "    <tr>\n",
       "      <th>2021-12-31</th>\n",
       "      <td>4766.18</td>\n",
       "      <td>113.915718</td>\n",
       "    </tr>\n",
       "    <tr>\n",
       "      <th>2022-01-31</th>\n",
       "      <td>4515.55</td>\n",
       "      <td>111.639008</td>\n",
       "    </tr>\n",
       "  </tbody>\n",
       "</table>\n",
       "<p>221 rows × 2 columns</p>\n",
       "</div>"
      ],
      "text/plain": [
       "             Equity    F.Income\n",
       "Date                           \n",
       "2003-09-30   995.97   57.482021\n",
       "2003-10-31  1050.71   56.944702\n",
       "2003-11-30  1058.20   57.135136\n",
       "2003-12-31  1111.92   57.694630\n",
       "2004-01-31  1131.13   57.948776\n",
       "...             ...         ...\n",
       "2021-09-30  4307.54  114.026978\n",
       "2021-10-31  4605.38  114.017029\n",
       "2021-11-30  4567.00  114.325836\n",
       "2021-12-31  4766.18  113.915718\n",
       "2022-01-31  4515.55  111.639008\n",
       "\n",
       "[221 rows x 2 columns]"
      ]
     },
     "execution_count": 81,
     "metadata": {},
     "output_type": "execute_result"
    }
   ],
   "source": [
    "monthly_data"
   ]
  },
  {
   "cell_type": "markdown",
   "id": "c2eb62e3",
   "metadata": {},
   "source": [
    "## Step 2"
   ]
  },
  {
   "cell_type": "code",
   "execution_count": 82,
   "id": "68ec131e",
   "metadata": {},
   "outputs": [
    {
     "data": {
      "text/html": [
       "<div>\n",
       "<style scoped>\n",
       "    .dataframe tbody tr th:only-of-type {\n",
       "        vertical-align: middle;\n",
       "    }\n",
       "\n",
       "    .dataframe tbody tr th {\n",
       "        vertical-align: top;\n",
       "    }\n",
       "\n",
       "    .dataframe thead th {\n",
       "        text-align: right;\n",
       "    }\n",
       "</style>\n",
       "<table border=\"1\" class=\"dataframe\">\n",
       "  <thead>\n",
       "    <tr style=\"text-align: right;\">\n",
       "      <th></th>\n",
       "      <th>Equity</th>\n",
       "      <th>F.Income</th>\n",
       "      <th>Port</th>\n",
       "    </tr>\n",
       "    <tr>\n",
       "      <th>Date</th>\n",
       "      <th></th>\n",
       "      <th></th>\n",
       "      <th></th>\n",
       "    </tr>\n",
       "  </thead>\n",
       "  <tbody>\n",
       "    <tr>\n",
       "      <th>2003-09-30</th>\n",
       "      <td>100.000000</td>\n",
       "      <td>100.000000</td>\n",
       "      <td>100.000000</td>\n",
       "    </tr>\n",
       "    <tr>\n",
       "      <th>2003-10-31</th>\n",
       "      <td>105.496149</td>\n",
       "      <td>99.065240</td>\n",
       "      <td>102.923786</td>\n",
       "    </tr>\n",
       "    <tr>\n",
       "      <th>2003-11-30</th>\n",
       "      <td>106.248180</td>\n",
       "      <td>99.396533</td>\n",
       "      <td>103.507521</td>\n",
       "    </tr>\n",
       "    <tr>\n",
       "      <th>2003-12-31</th>\n",
       "      <td>111.641917</td>\n",
       "      <td>100.369870</td>\n",
       "      <td>107.133098</td>\n",
       "    </tr>\n",
       "    <tr>\n",
       "      <th>2004-01-31</th>\n",
       "      <td>113.570690</td>\n",
       "      <td>100.812002</td>\n",
       "      <td>108.467215</td>\n",
       "    </tr>\n",
       "  </tbody>\n",
       "</table>\n",
       "</div>"
      ],
      "text/plain": [
       "                Equity    F.Income        Port\n",
       "Date                                          \n",
       "2003-09-30  100.000000  100.000000  100.000000\n",
       "2003-10-31  105.496149   99.065240  102.923786\n",
       "2003-11-30  106.248180   99.396533  103.507521\n",
       "2003-12-31  111.641917  100.369870  107.133098\n",
       "2004-01-31  113.570690  100.812002  108.467215"
      ]
     },
     "execution_count": 82,
     "metadata": {},
     "output_type": "execute_result"
    }
   ],
   "source": [
    "#Rebase to 100\n",
    "\n",
    "Equity_rebased = []\n",
    "FI_rebased = []\n",
    "Portfolio = []\n",
    "\n",
    "eqty_weight = 0.6\n",
    "fi_weight = 1-eqty_weight\n",
    "\n",
    "\n",
    "for y in monthly_data['Equity']:\n",
    "    Equity_rebased.append((y/monthly_data['Equity'].iloc[0])*100)\n",
    "\n",
    "for k in monthly_data['F.Income']:\n",
    "    FI_rebased.append((k/monthly_data['F.Income'].iloc[0])*100)\n",
    "    \n",
    "for m in range(len(monthly_data)):\n",
    "    Portfolio.append((eqty_weight*Equity_rebased[m])+(fi_weight*FI_rebased[m]))\n",
    "\n",
    "monthly_data['Equity'] = Equity_rebased\n",
    "monthly_data['F.Income'] = FI_rebased\n",
    "monthly_data['Port'] = Portfolio\n",
    "\n",
    "monthly_data.head()"
   ]
  },
  {
   "cell_type": "code",
   "execution_count": null,
   "id": "b931bafb",
   "metadata": {},
   "outputs": [],
   "source": []
  },
  {
   "cell_type": "code",
   "execution_count": 83,
   "id": "475283f0",
   "metadata": {},
   "outputs": [
    {
     "data": {
      "text/html": [
       "<div>\n",
       "<style scoped>\n",
       "    .dataframe tbody tr th:only-of-type {\n",
       "        vertical-align: middle;\n",
       "    }\n",
       "\n",
       "    .dataframe tbody tr th {\n",
       "        vertical-align: top;\n",
       "    }\n",
       "\n",
       "    .dataframe thead th {\n",
       "        text-align: right;\n",
       "    }\n",
       "</style>\n",
       "<table border=\"1\" class=\"dataframe\">\n",
       "  <thead>\n",
       "    <tr style=\"text-align: right;\">\n",
       "      <th></th>\n",
       "      <th>Equity_return</th>\n",
       "      <th>F.Income_return</th>\n",
       "      <th>Port_return</th>\n",
       "    </tr>\n",
       "  </thead>\n",
       "  <tbody>\n",
       "    <tr>\n",
       "      <th>0</th>\n",
       "      <td>0.053504</td>\n",
       "      <td>-0.009392</td>\n",
       "      <td>0.028819</td>\n",
       "    </tr>\n",
       "    <tr>\n",
       "      <th>1</th>\n",
       "      <td>0.007103</td>\n",
       "      <td>0.003339</td>\n",
       "      <td>0.005656</td>\n",
       "    </tr>\n",
       "    <tr>\n",
       "      <th>2</th>\n",
       "      <td>0.049519</td>\n",
       "      <td>0.009745</td>\n",
       "      <td>0.034428</td>\n",
       "    </tr>\n",
       "    <tr>\n",
       "      <th>3</th>\n",
       "      <td>0.017129</td>\n",
       "      <td>0.004395</td>\n",
       "      <td>0.012376</td>\n",
       "    </tr>\n",
       "    <tr>\n",
       "      <th>4</th>\n",
       "      <td>0.012135</td>\n",
       "      <td>0.011350</td>\n",
       "      <td>0.011843</td>\n",
       "    </tr>\n",
       "  </tbody>\n",
       "</table>\n",
       "</div>"
      ],
      "text/plain": [
       "   Equity_return  F.Income_return  Port_return\n",
       "0       0.053504        -0.009392     0.028819\n",
       "1       0.007103         0.003339     0.005656\n",
       "2       0.049519         0.009745     0.034428\n",
       "3       0.017129         0.004395     0.012376\n",
       "4       0.012135         0.011350     0.011843"
      ]
     },
     "execution_count": 83,
     "metadata": {},
     "output_type": "execute_result"
    }
   ],
   "source": [
    "#Compute the monthly return\n",
    "\n",
    "df_return = pd.DataFrame()\n",
    "\n",
    "for i in monthly_data.columns[0:]:\n",
    "    new_stock = list(monthly_data[i])\n",
    "    ret_stock = [0]*(len(new_stock)-1)\n",
    "    for j in range(len(ret_stock)):\n",
    "        ret_stock[j] = np.log(new_stock[j+1]/new_stock[j])\n",
    "        df_return[i+'_return'] = ret_stock\n",
    "\n",
    "df_return.head()"
   ]
  },
  {
   "cell_type": "code",
   "execution_count": 84,
   "id": "97e9f7a6",
   "metadata": {},
   "outputs": [],
   "source": [
    "#Fix the index with the relevant dates\n",
    "df_return.index = monthly_data.index[1:221]"
   ]
  },
  {
   "cell_type": "code",
   "execution_count": 85,
   "id": "925ba230",
   "metadata": {},
   "outputs": [
    {
     "data": {
      "text/html": [
       "<div>\n",
       "<style scoped>\n",
       "    .dataframe tbody tr th:only-of-type {\n",
       "        vertical-align: middle;\n",
       "    }\n",
       "\n",
       "    .dataframe tbody tr th {\n",
       "        vertical-align: top;\n",
       "    }\n",
       "\n",
       "    .dataframe thead th {\n",
       "        text-align: right;\n",
       "    }\n",
       "</style>\n",
       "<table border=\"1\" class=\"dataframe\">\n",
       "  <thead>\n",
       "    <tr style=\"text-align: right;\">\n",
       "      <th></th>\n",
       "      <th>Equity_return</th>\n",
       "      <th>F.Income_return</th>\n",
       "      <th>Port_return</th>\n",
       "    </tr>\n",
       "    <tr>\n",
       "      <th>Date</th>\n",
       "      <th></th>\n",
       "      <th></th>\n",
       "      <th></th>\n",
       "    </tr>\n",
       "  </thead>\n",
       "  <tbody>\n",
       "    <tr>\n",
       "      <th>2003-10-31</th>\n",
       "      <td>0.053504</td>\n",
       "      <td>-0.009392</td>\n",
       "      <td>0.028819</td>\n",
       "    </tr>\n",
       "    <tr>\n",
       "      <th>2003-11-30</th>\n",
       "      <td>0.007103</td>\n",
       "      <td>0.003339</td>\n",
       "      <td>0.005656</td>\n",
       "    </tr>\n",
       "    <tr>\n",
       "      <th>2003-12-31</th>\n",
       "      <td>0.049519</td>\n",
       "      <td>0.009745</td>\n",
       "      <td>0.034428</td>\n",
       "    </tr>\n",
       "    <tr>\n",
       "      <th>2004-01-31</th>\n",
       "      <td>0.017129</td>\n",
       "      <td>0.004395</td>\n",
       "      <td>0.012376</td>\n",
       "    </tr>\n",
       "    <tr>\n",
       "      <th>2004-02-29</th>\n",
       "      <td>0.012135</td>\n",
       "      <td>0.011350</td>\n",
       "      <td>0.011843</td>\n",
       "    </tr>\n",
       "    <tr>\n",
       "      <th>...</th>\n",
       "      <td>...</td>\n",
       "      <td>...</td>\n",
       "      <td>...</td>\n",
       "    </tr>\n",
       "    <tr>\n",
       "      <th>2021-09-30</th>\n",
       "      <td>-0.048738</td>\n",
       "      <td>-0.009215</td>\n",
       "      <td>-0.039622</td>\n",
       "    </tr>\n",
       "    <tr>\n",
       "      <th>2021-10-31</th>\n",
       "      <td>0.066858</td>\n",
       "      <td>-0.000087</td>\n",
       "      <td>0.051579</td>\n",
       "    </tr>\n",
       "    <tr>\n",
       "      <th>2021-11-30</th>\n",
       "      <td>-0.008369</td>\n",
       "      <td>0.002705</td>\n",
       "      <td>-0.005896</td>\n",
       "    </tr>\n",
       "    <tr>\n",
       "      <th>2021-12-31</th>\n",
       "      <td>0.042689</td>\n",
       "      <td>-0.003594</td>\n",
       "      <td>0.032492</td>\n",
       "    </tr>\n",
       "    <tr>\n",
       "      <th>2022-01-31</th>\n",
       "      <td>-0.054018</td>\n",
       "      <td>-0.020188</td>\n",
       "      <td>-0.046601</td>\n",
       "    </tr>\n",
       "  </tbody>\n",
       "</table>\n",
       "<p>220 rows × 3 columns</p>\n",
       "</div>"
      ],
      "text/plain": [
       "            Equity_return  F.Income_return  Port_return\n",
       "Date                                                   \n",
       "2003-10-31       0.053504        -0.009392     0.028819\n",
       "2003-11-30       0.007103         0.003339     0.005656\n",
       "2003-12-31       0.049519         0.009745     0.034428\n",
       "2004-01-31       0.017129         0.004395     0.012376\n",
       "2004-02-29       0.012135         0.011350     0.011843\n",
       "...                   ...              ...          ...\n",
       "2021-09-30      -0.048738        -0.009215    -0.039622\n",
       "2021-10-31       0.066858        -0.000087     0.051579\n",
       "2021-11-30      -0.008369         0.002705    -0.005896\n",
       "2021-12-31       0.042689        -0.003594     0.032492\n",
       "2022-01-31      -0.054018        -0.020188    -0.046601\n",
       "\n",
       "[220 rows x 3 columns]"
      ]
     },
     "execution_count": 85,
     "metadata": {},
     "output_type": "execute_result"
    }
   ],
   "source": [
    "df_return"
   ]
  },
  {
   "cell_type": "code",
   "execution_count": 86,
   "id": "69c82df4",
   "metadata": {},
   "outputs": [
    {
     "data": {
      "text/html": [
       "<div>\n",
       "<style scoped>\n",
       "    .dataframe tbody tr th:only-of-type {\n",
       "        vertical-align: middle;\n",
       "    }\n",
       "\n",
       "    .dataframe tbody tr th {\n",
       "        vertical-align: top;\n",
       "    }\n",
       "\n",
       "    .dataframe thead th {\n",
       "        text-align: right;\n",
       "    }\n",
       "</style>\n",
       "<table border=\"1\" class=\"dataframe\">\n",
       "  <thead>\n",
       "    <tr style=\"text-align: right;\">\n",
       "      <th></th>\n",
       "      <th>Equity_return</th>\n",
       "      <th>F.Income_return</th>\n",
       "      <th>Port_return</th>\n",
       "    </tr>\n",
       "    <tr>\n",
       "      <th>Date</th>\n",
       "      <th></th>\n",
       "      <th></th>\n",
       "      <th></th>\n",
       "    </tr>\n",
       "  </thead>\n",
       "  <tbody>\n",
       "    <tr>\n",
       "      <th>2003-10-31</th>\n",
       "      <td>0.053504</td>\n",
       "      <td>-0.009392</td>\n",
       "      <td>0.028819</td>\n",
       "    </tr>\n",
       "    <tr>\n",
       "      <th>2003-11-30</th>\n",
       "      <td>0.007103</td>\n",
       "      <td>0.003339</td>\n",
       "      <td>0.005656</td>\n",
       "    </tr>\n",
       "    <tr>\n",
       "      <th>2003-12-31</th>\n",
       "      <td>0.049519</td>\n",
       "      <td>0.009745</td>\n",
       "      <td>0.034428</td>\n",
       "    </tr>\n",
       "    <tr>\n",
       "      <th>2004-01-31</th>\n",
       "      <td>0.017129</td>\n",
       "      <td>0.004395</td>\n",
       "      <td>0.012376</td>\n",
       "    </tr>\n",
       "    <tr>\n",
       "      <th>2004-02-29</th>\n",
       "      <td>0.012135</td>\n",
       "      <td>0.011350</td>\n",
       "      <td>0.011843</td>\n",
       "    </tr>\n",
       "    <tr>\n",
       "      <th>...</th>\n",
       "      <td>...</td>\n",
       "      <td>...</td>\n",
       "      <td>...</td>\n",
       "    </tr>\n",
       "    <tr>\n",
       "      <th>2021-09-30</th>\n",
       "      <td>-0.048738</td>\n",
       "      <td>-0.009215</td>\n",
       "      <td>-0.039622</td>\n",
       "    </tr>\n",
       "    <tr>\n",
       "      <th>2021-10-31</th>\n",
       "      <td>0.066858</td>\n",
       "      <td>-0.000087</td>\n",
       "      <td>0.051579</td>\n",
       "    </tr>\n",
       "    <tr>\n",
       "      <th>2021-11-30</th>\n",
       "      <td>-0.008369</td>\n",
       "      <td>0.002705</td>\n",
       "      <td>-0.005896</td>\n",
       "    </tr>\n",
       "    <tr>\n",
       "      <th>2021-12-31</th>\n",
       "      <td>0.042689</td>\n",
       "      <td>-0.003594</td>\n",
       "      <td>0.032492</td>\n",
       "    </tr>\n",
       "    <tr>\n",
       "      <th>2022-01-31</th>\n",
       "      <td>-0.054018</td>\n",
       "      <td>-0.020188</td>\n",
       "      <td>-0.046601</td>\n",
       "    </tr>\n",
       "  </tbody>\n",
       "</table>\n",
       "<p>220 rows × 3 columns</p>\n",
       "</div>"
      ],
      "text/plain": [
       "            Equity_return  F.Income_return  Port_return\n",
       "Date                                                   \n",
       "2003-10-31       0.053504        -0.009392     0.028819\n",
       "2003-11-30       0.007103         0.003339     0.005656\n",
       "2003-12-31       0.049519         0.009745     0.034428\n",
       "2004-01-31       0.017129         0.004395     0.012376\n",
       "2004-02-29       0.012135         0.011350     0.011843\n",
       "...                   ...              ...          ...\n",
       "2021-09-30      -0.048738        -0.009215    -0.039622\n",
       "2021-10-31       0.066858        -0.000087     0.051579\n",
       "2021-11-30      -0.008369         0.002705    -0.005896\n",
       "2021-12-31       0.042689        -0.003594     0.032492\n",
       "2022-01-31      -0.054018        -0.020188    -0.046601\n",
       "\n",
       "[220 rows x 3 columns]"
      ]
     },
     "execution_count": 86,
     "metadata": {},
     "output_type": "execute_result"
    }
   ],
   "source": [
    "\n",
    "df_return1 = df_return.copy()\n",
    "\n",
    "df_return1"
   ]
  },
  {
   "cell_type": "markdown",
   "id": "4744cedc",
   "metadata": {},
   "source": [
    "## Step 3"
   ]
  },
  {
   "cell_type": "code",
   "execution_count": 87,
   "id": "430a0127",
   "metadata": {},
   "outputs": [
    {
     "name": "stdout",
     "output_type": "stream",
     "text": [
      "mean annualized monthly returns for the first half: \n",
      " 0.04260675856619032 \n",
      "\n",
      "mean annualized monthly returns for the second half: \n",
      " 0.09396957722373261 \n",
      "\n",
      "mean annualized monthly returns for the entire sample: \n",
      " 0.06828816789496148\n"
     ]
    }
   ],
   "source": [
    "#Split the dataframe into two\n",
    "half = int(round(len(df_return1)/2,0))\n",
    "\n",
    "#Compute annualized return\n",
    "\n",
    "annualized_df = pd.concat([df_return1['Equity_return']*12, df_return1['F.Income_return']*12, df_return1['Port_return']*12], axis = 1)\n",
    "\n",
    "#mean annualized monthly returns for the first half\n",
    "print('mean annualized monthly returns for the first half:', '\\n', sum(annualized_df.iloc[:half]['Port_return'])/len(annualized_df.iloc[:half]['Port_return']), '\\n')\n",
    "\n",
    "#mean annualized monthly returns for the second half\n",
    "print('mean annualized monthly returns for the second half:', '\\n', sum(annualized_df.iloc[half:]['Port_return'])/len(annualized_df.iloc[half:]['Port_return']),'\\n')\n",
    "\n",
    "#mean annualized monthly returns for the entire sample\n",
    "print('mean annualized monthly returns for the entire sample:', '\\n', sum(annualized_df['Port_return'])/len(annualized_df['Port_return']) )"
   ]
  },
  {
   "cell_type": "code",
   "execution_count": 88,
   "id": "2ff79437",
   "metadata": {},
   "outputs": [
    {
     "name": "stdout",
     "output_type": "stream",
     "text": [
      "Volatility of 60/40 portfolio:  0.026503520386058074\n",
      "Volatility of Equity return:  0.0415677313565263\n",
      "Volatility of FI return:  0.010449205840695017\n"
     ]
    }
   ],
   "source": [
    "#Compute volatility\n",
    "\n",
    "#Volatility for 60/40 portfolio\n",
    "sum_port_ret = sum(df_return1['Port_return'])\n",
    "len_port_ret = len(df_return1['Port_return'])\n",
    "mean_port_ret = sum_port_ret/len_port_ret\n",
    "\n",
    "port_var = sum([((c-mean_port_ret)**2) for c in df_return1['Port_return']]) /len_port_ret\n",
    "port_stdev = port_var**0.5\n",
    "\n",
    "#Volatility for Equity returns\n",
    "sum_Equity_ret = sum(df_return1['Equity_return'])\n",
    "len_Equity_ret = len(df_return1['Equity_return'])\n",
    "mean_Equity_ret = sum_Equity_ret/len_Equity_ret\n",
    "\n",
    "Equity_var = sum([((c-mean_Equity_ret)**2) for c in df_return1['Equity_return']]) /len_Equity_ret\n",
    "Equity_stdev = Equity_var**0.5\n",
    "\n",
    "#Volatility for F.Income returns\n",
    "sum_FIncome_ret = sum(df_return1['F.Income_return'])\n",
    "len_FIncome_ret = len(df_return1['F.Income_return'])\n",
    "mean_FIncome_ret = sum_FIncome_ret/len_FIncome_ret\n",
    "\n",
    "FIncome_var = sum([((c-mean_FIncome_ret)**2) for c in df_return1['F.Income_return']]) /len_FIncome_ret\n",
    "FIncome_stdev = FIncome_var**0.5\n",
    "\n",
    "\n",
    "print('Volatility of 60/40 portfolio: ', port_stdev)\n",
    "print('Volatility of Equity return: ', Equity_stdev)\n",
    "print('Volatility of FI return: ', FIncome_stdev)"
   ]
  },
  {
   "cell_type": "code",
   "execution_count": 89,
   "id": "e1627d8b",
   "metadata": {},
   "outputs": [
    {
     "name": "stdout",
     "output_type": "stream",
     "text": [
      "[[1.         0.07760036]\n",
      " [0.07760036 1.        ]]\n",
      "[[1.         0.03351938]\n",
      " [0.03351938 1.        ]]\n",
      "[[1.         0.04990589]\n",
      " [0.04990589 1.        ]]\n"
     ]
    }
   ],
   "source": [
    "#Compute correlation between Equity and FI returns\n",
    "split1 = df_return1.iloc[:half]\n",
    "\n",
    "split2 = df_return1.iloc[half:]\n",
    "\n",
    "#calculate correlation for first split\n",
    "\n",
    "split1_corr = np.corrcoef(split1['Equity_return'], split1['F.Income_return'])\n",
    "\n",
    "#calculate correlation for second split\n",
    "\n",
    "split2_corr = np.corrcoef(split2['Equity_return'], split2['F.Income_return'])\n",
    "\n",
    "#calculate correlation of entire sample\n",
    "\n",
    "corr_df_return1 = np.corrcoef(df_return1['Equity_return'], df_return1['F.Income_return'])\n",
    "\n",
    "print(split1_corr)\n",
    "print(split2_corr)\n",
    "print(corr_df_return1)"
   ]
  },
  {
   "cell_type": "code",
   "execution_count": null,
   "id": "85ff9c69",
   "metadata": {},
   "outputs": [],
   "source": []
  },
  {
   "cell_type": "markdown",
   "id": "427818f2",
   "metadata": {},
   "source": [
    "## Step 4"
   ]
  },
  {
   "cell_type": "code",
   "execution_count": 90,
   "id": "d81d499b",
   "metadata": {},
   "outputs": [
    {
     "data": {
      "text/plain": [
       "<AxesSubplot:xlabel='Port_return', ylabel='Count'>"
      ]
     },
     "execution_count": 90,
     "metadata": {},
     "output_type": "execute_result"
    },
    {
     "data": {
      "image/png": "[encoded data removed]",
      "text/plain": [
       "<Figure size 720x288 with 3 Axes>"
      ]
     },
     "metadata": {
      "needs_background": "light"
     },
     "output_type": "display_data"
    }
   ],
   "source": [
    "#Monthly return distribution\n",
    "\n",
    "fig, axs = plt.subplots(nrows=1, ncols=3, figsize=(10,4))\n",
    "\n",
    "\n",
    "sns.histplot(ax=axs[0], x=df_return1['Equity_return'], kde=True, color = 'darkblue')\n",
    "\n",
    "sns.histplot(ax=axs[1], x= df_return1['F.Income_return'], kde=True, color = 'deeppink')\n",
    "\n",
    "sns.histplot(ax=axs[2], x = df_return1['Port_return'], kde=True, color = 'gold')"
   ]
  },
  {
   "cell_type": "code",
   "execution_count": null,
   "id": "f2f88510",
   "metadata": {},
   "outputs": [],
   "source": []
  },
  {
   "cell_type": "code",
   "execution_count": 91,
   "id": "6a7ac566",
   "metadata": {},
   "outputs": [
    {
     "name": "stdout",
     "output_type": "stream",
     "text": [
      "Statistical properties of S&P 500 returns\n",
      "       Equity_return\n",
      "count     220.000000\n",
      "mean        0.006871\n",
      "std         0.041663\n",
      "min        -0.185636\n",
      "25%        -0.015133\n",
      "50%         0.012126\n",
      "75%         0.031131\n",
      "max         0.119421 \n",
      "\n",
      "Statistical properties of AGG returns\n",
      "count    220.000000\n",
      "mean       0.003017\n",
      "std        0.010473\n",
      "min       -0.028467\n",
      "25%       -0.002510\n",
      "50%        0.002675\n",
      "75%        0.009437\n",
      "max        0.064499\n",
      "Name: F.Income_return, dtype: float64 \n",
      "\n",
      "Statistical properties of 60/40 portfolio\n",
      "count    220.000000\n",
      "mean       0.005691\n",
      "std        0.026564\n",
      "min       -0.116926\n",
      "25%       -0.006024\n",
      "50%        0.009408\n",
      "75%        0.021549\n",
      "max        0.086573\n",
      "Name: Port_return, dtype: float64\n"
     ]
    }
   ],
   "source": [
    "#Compare their staitical properties\n",
    "\n",
    "print('Statistical properties of S&P 500 returns')\n",
    "print(df_return1[['Equity_return']].describe(), '\\n')\n",
    "\n",
    "print('Statistical properties of AGG returns')\n",
    "print(df_return1['F.Income_return'].describe(), '\\n')\n",
    "\n",
    "print('Statistical properties of 60/40 portfolio')\n",
    "print(df_return1['Port_return'].describe())"
   ]
  },
  {
   "cell_type": "code",
   "execution_count": 92,
   "id": "339c03a5",
   "metadata": {},
   "outputs": [
    {
     "name": "stdout",
     "output_type": "stream",
     "text": [
      "Peakedness of equity returns distribution is:  2.450143788569484 \n",
      "\n",
      "Peakedness of fixed income returns distribution is:  4.92580902103566 \n",
      "\n",
      "Peakedness of 60/40 portfolio returns distribution is:  2.720527259479943\n"
     ]
    }
   ],
   "source": [
    "#Compare the kurtosis\n",
    "\n",
    "print('Peakedness of equity returns distribution is: ',kurtosis(df_return1['Equity_return']),'\\n')\n",
    "print('Peakedness of fixed income returns distribution is: ',kurtosis(df_return1['F.Income_return']), '\\n')\n",
    "print('Peakedness of 60/40 portfolio returns distribution is: ',kurtosis(df_return1['Port_return']))"
   ]
  },
  {
   "cell_type": "code",
   "execution_count": 93,
   "id": "316e3aca",
   "metadata": {},
   "outputs": [
    {
     "name": "stdout",
     "output_type": "stream",
     "text": [
      "The skewness of the equity returns distribution is:  -0.9006022294010575 \n",
      "\n",
      "The skewness of the fixed income returns distribution is:  0.6177815112476813 \n",
      "\n",
      "The skewness of the portfolio return distribution is:  -0.8769893395195771\n"
     ]
    }
   ],
   "source": [
    "#Compare the skewness\n",
    "\n",
    "print('The skewness of the equity returns distribution is: ', skew(df_return1['Equity_return']),'\\n')\n",
    "print('The skewness of the fixed income returns distribution is: ', skew(df_return1['F.Income_return']),'\\n')\n",
    "print('The skewness of the portfolio return distribution is: ', skew(df_return1['Port_return']))"
   ]
  },
  {
   "cell_type": "code",
   "execution_count": 94,
   "id": "6e96d3db",
   "metadata": {},
   "outputs": [
    {
     "name": "stderr",
     "output_type": "stream",
     "text": [
      "/Users/user/opt/anaconda3/lib/python3.8/site-packages/statsmodels/graphics/gofplots.py:993: UserWarning: marker is redundantly defined by the 'marker' keyword argument and the fmt string \"bo\" (-> marker='o'). The keyword argument will take precedence.\n",
      "  ax.plot(x, y, fmt, **plot_style)\n",
      "/Users/user/opt/anaconda3/lib/python3.8/site-packages/statsmodels/graphics/gofplots.py:993: UserWarning: marker is redundantly defined by the 'marker' keyword argument and the fmt string \"bo\" (-> marker='o'). The keyword argument will take precedence.\n",
      "  ax.plot(x, y, fmt, **plot_style)\n",
      "/Users/user/opt/anaconda3/lib/python3.8/site-packages/statsmodels/graphics/gofplots.py:993: UserWarning: marker is redundantly defined by the 'marker' keyword argument and the fmt string \"bo\" (-> marker='o'). The keyword argument will take precedence.\n",
      "  ax.plot(x, y, fmt, **plot_style)\n"
     ]
    },
    {
     "data": {
      "image/png": "[encoded data removed]",
      "text/plain": [
       "<Figure size 432x288 with 1 Axes>"
      ]
     },
     "metadata": {
      "needs_background": "light"
     },
     "output_type": "display_data"
    },
    {
     "data": {
      "image/png": "[encoded data removed]",
      "text/plain": [
       "<Figure size 432x288 with 1 Axes>"
      ]
     },
     "metadata": {
      "needs_background": "light"
     },
     "output_type": "display_data"
    },
    {
     "data": {
      "image/png": "[encoded data removed]",
      "text/plain": [
       "<Figure size 432x288 with 1 Axes>"
      ]
     },
     "metadata": {
      "needs_background": "light"
     },
     "output_type": "display_data"
    }
   ],
   "source": [
    "from statsmodels.graphics.gofplots import qqplot\n",
    "qqplot(df_return1['Equity_return'], line = 's')\n",
    "plt.title('Equity Return')\n",
    "\n",
    "qqplot(df_return1['F.Income_return'], line = 's')\n",
    "plt.title('Fixed Income Return')\n",
    "\n",
    "qqplot(df_return1['Port_return'], line = 's')\n",
    "plt.title('Portfolio Return')\n",
    "\n",
    "plt.show()"
   ]
  },
  {
   "cell_type": "markdown",
   "id": "1d257123",
   "metadata": {},
   "source": [
    "## Step 5"
   ]
  },
  {
   "cell_type": "code",
   "execution_count": 95,
   "id": "bc00272a",
   "metadata": {},
   "outputs": [],
   "source": [
    "#write a drawdown function\n",
    "\n",
    "def drawdown(price_series: pd.Series):\n",
    "    \"\"\"Receives a time series of asset prices/,\n",
    "       returns a DataFrame with columns for\n",
    "       the wealth index, \n",
    "       the previous peaks, and \n",
    "       the percentage drawdown\n",
    "    \"\"\"\n",
    "    wealth_index = price_series\n",
    "    prev_peaks = wealth_index.cummax()\n",
    "    pct_drawdown = (wealth_index - prev_peaks)/prev_peaks\n",
    "    return pd.DataFrame({\n",
    "        'Wealth':wealth_index,\n",
    "        'Peaks':prev_peaks,\n",
    "        'Drawdown':pct_drawdown\n",
    "    })"
   ]
  },
  {
   "cell_type": "code",
   "execution_count": null,
   "id": "8e77d3ef",
   "metadata": {},
   "outputs": [],
   "source": []
  },
  {
   "cell_type": "code",
   "execution_count": 96,
   "id": "b70322b8",
   "metadata": {},
   "outputs": [
    {
     "name": "stdout",
     "output_type": "stream",
     "text": [
      "The Max drawdown for Equity was:  -52.56% and it occured in  2009-02-28 00:00:00 \n",
      "\n",
      "The Max drawdown for Fixed Income was:  -4.31% and it occured in  2008-10-31 00:00:00 \n",
      "\n",
      "The Max drawdown for the portfolio was:  -32.95% and it occured in  2009-02-28 00:00:00\n"
     ]
    }
   ],
   "source": [
    "#Compute the max drawdown (MDD) for each of the three portfolios\n",
    "\n",
    "DD_Equity = drawdown(monthly_data['Equity'])['Drawdown']\n",
    "MDD_Equity = drawdown(monthly_data['Equity'])['Drawdown'].min()\n",
    "\n",
    "DD_FIncome = drawdown(monthly_data['F.Income'])['Drawdown']\n",
    "MDD_FIncome = drawdown(monthly_data['F.Income'])['Drawdown'].min()\n",
    "\n",
    "DD_Portfolio = drawdown(monthly_data['Port'])['Drawdown']\n",
    "MDD_Portfolio = drawdown(monthly_data['Port'])['Drawdown'].min()\n",
    "\n",
    "Date_MDD_Equity = DD_Equity.idxmin()\n",
    "Date_MDD_FIncome = DD_FIncome.idxmin()\n",
    "Date_MDD_Portfolio = DD_Portfolio.idxmin()\n",
    "\n",
    "print('The Max drawdown for Equity was: ', str(round(MDD_Equity*100,2))+'%', 'and it occured in ', Date_MDD_Equity, '\\n')\n",
    "print('The Max drawdown for Fixed Income was: ', str(round(MDD_FIncome*100,2))+'%', 'and it occured in ', Date_MDD_FIncome, '\\n')\n",
    "print('The Max drawdown for the portfolio was: ', str(round(MDD_Portfolio*100,2))+'%', 'and it occured in ', Date_MDD_Portfolio)"
   ]
  },
  {
   "cell_type": "code",
   "execution_count": 97,
   "id": "daea980e",
   "metadata": {},
   "outputs": [],
   "source": [
    "#Calculate Recovery time\n",
    "\n",
    "#What was the peak before the valley (the valley dates are printed above)?\n",
    "Equity_peak = drawdown(monthly_data['Equity'])['Peaks'].loc[:str(Date_MDD_Equity)].max()\n",
    "FI_peak = drawdown(monthly_data['F.Income'])['Peaks'].loc[:str(Date_MDD_FIncome)].max()\n",
    "Port_peak = drawdown(monthly_data['Port'])['Peaks'].loc[:str(Date_MDD_Portfolio)].max()"
   ]
  },
  {
   "cell_type": "code",
   "execution_count": 98,
   "id": "127d85f2",
   "metadata": {},
   "outputs": [
    {
     "name": "stdout",
     "output_type": "stream",
     "text": [
      "Equity recovery date:  2013-02-28T00:00:00.000000000\n",
      "Equity peak date:  2007-10-31T00:00:00.000000000 \n",
      "\n",
      "F.Income recovery date:  2008-11-30T00:00:00.000000000\n",
      "F.Income peak date:  2008-04-30T00:00:00.000000000 \n",
      "\n",
      "Portfolio recovery date:  2012-01-31T00:00:00.000000000\n",
      "Portfolio peak date:  2007-10-31T00:00:00.000000000\n"
     ]
    }
   ],
   "source": [
    "#The Wealth index, peaks and Drawdown (WPD) for each of the assets and overall portfolio\n",
    "Equity_wpd = drawdown(monthly_data['Equity'])\n",
    "FI_wpd = drawdown(monthly_data['F.Income'])\n",
    "Port_wpd = drawdown(monthly_data['Port'])\n",
    "\n",
    "#Equity peak date\n",
    "Equity_peak_date = Equity_wpd[Equity_wpd['Peaks'] == Equity_peak].index.values.min()\n",
    "FI_peak_date = FI_wpd[FI_wpd['Peaks'] == FI_peak].index.values.min()\n",
    "Port_peak_date = Port_wpd[Port_wpd['Peaks'] == Port_peak].index.values.min()\n",
    "\n",
    "#Recovery date\n",
    "Equity_recovery_date = Equity_wpd[Equity_wpd['Peaks'] == Equity_peak].index.values.max()\n",
    "FI_recovery_date = FI_wpd[FI_wpd['Peaks'] == FI_peak].index.values.max()\n",
    "Port_recovery_date = Port_wpd[Port_wpd['Peaks'] == Port_peak].index.values.max()\n",
    "\n",
    "\n",
    "print('Equity recovery date: ', Equity_recovery_date)\n",
    "print('Equity peak date: ', Equity_peak_date, '\\n')\n",
    "print('F.Income recovery date: ', FI_recovery_date)\n",
    "print('F.Income peak date: ', FI_peak_date, '\\n')\n",
    "print('Portfolio recovery date: ', Port_recovery_date)\n",
    "print('Portfolio peak date: ', Port_peak_date)"
   ]
  },
  {
   "attachments": {
    "image.png": {
     "image/png": "[encoded data removed]"
    }
   },
   "cell_type": "markdown",
   "id": "a155811c",
   "metadata": {},
   "source": [
    "![image.png](attachment:image.png)\n",
    "\n"
   ]
  },
  {
   "cell_type": "markdown",
   "id": "933984bd",
   "metadata": {},
   "source": [
    "Source: https://www.mutualfundobserver.com/2014/08/recovery-time/ "
   ]
  },
  {
   "cell_type": "code",
   "execution_count": 99,
   "id": "64c992be",
   "metadata": {},
   "outputs": [],
   "source": [
    "#As depicted in the chart above, recovery period = recovery date - peak date"
   ]
  },
  {
   "cell_type": "code",
   "execution_count": 100,
   "id": "704b2fe4",
   "metadata": {},
   "outputs": [
    {
     "name": "stdout",
     "output_type": "stream",
     "text": [
      "Recovery time for equity is:  7.7 years \n",
      "\n",
      "Recovery time for F.Income is:  0.8 years \n",
      "\n",
      "Recovery time for the portfolio is:  6.2 years\n"
     ]
    }
   ],
   "source": [
    "#Given the dates printed above, find the difference in time period\n",
    "Equity_recovery_time = (np.datetime64(str(Equity_recovery_date)) - np.datetime64(str(Equity_peak_date)))\n",
    "FI_recovery_time = (np.datetime64(str(FI_recovery_date)) - np.datetime64(str(FI_peak_date)))\n",
    "Port_recovery_time = (np.datetime64(str(Port_recovery_date)) - np.datetime64(str(Port_peak_date)))\n",
    "\n",
    "\n",
    "#Convert the number of days to years, assuming 252 trading days per year\n",
    "print('Recovery time for equity is: ', round(Equity_recovery_time/np.timedelta64(252, 'D'),1),'years', '\\n')\n",
    "print('Recovery time for F.Income is: ', round(FI_recovery_time/np.timedelta64(252, 'D'),1),'years', '\\n')\n",
    "print('Recovery time for the portfolio is: ', round(Port_recovery_time/np.timedelta64(252, 'D'),1),'years')"
   ]
  },
  {
   "cell_type": "code",
   "execution_count": 101,
   "id": "0886a409",
   "metadata": {
    "scrolled": false
   },
   "outputs": [
    {
     "data": {
      "text/plain": [
       "<matplotlib.legend.Legend at 0x7fdd6082d1c0>"
      ]
     },
     "execution_count": 101,
     "metadata": {},
     "output_type": "execute_result"
    },
    {
     "data": {
      "image/png": "[encoded data removed]",
      "text/plain": [
       "<Figure size 1800x360 with 3 Axes>"
      ]
     },
     "metadata": {
      "needs_background": "light"
     },
     "output_type": "display_data"
    }
   ],
   "source": [
    "#Plot the drawdown\n",
    "fig, (ax1, ax2, ax3) = plt.subplots(nrows=1, ncols=3, figsize=(25,5))\n",
    "\n",
    "#sns.histplot(ax=axs[0], x=df_return1['Equity_return'], kde=True, color = 'darkblue')\n",
    "\n",
    "\n",
    "ax1.plot(drawdown(monthly_data['Equity'])[['Drawdown']], label = 'Equity', color = 'red')\n",
    "ax2.plot(drawdown(monthly_data['F.Income'])[['Drawdown']], label = 'F.Income', color = 'green')\n",
    "ax3.plot(drawdown(monthly_data['Port'])[['Drawdown']], label = 'Portfolio', color = 'blue')\n",
    "\n",
    "ax1.legend()\n",
    "ax2.legend()\n",
    "ax3.legend()\n",
    "\n",
    "\n"
   ]
  },
  {
   "cell_type": "code",
   "execution_count": 102,
   "id": "cfe23b88",
   "metadata": {},
   "outputs": [
    {
     "data": {
      "text/plain": [
       "<AxesSubplot:xlabel='Date'>"
      ]
     },
     "execution_count": 102,
     "metadata": {},
     "output_type": "execute_result"
    },
    {
     "data": {
      "image/png": "[encoded data removed]",
      "text/plain": [
       "<Figure size 432x288 with 1 Axes>"
      ]
     },
     "metadata": {
      "needs_background": "light"
     },
     "output_type": "display_data"
    }
   ],
   "source": [
    "#Plot the wealth index against the peaks\n",
    "\n",
    "drawdown(monthly_data['Equity'])[['Wealth', 'Peaks']].plot()\n",
    "\n"
   ]
  },
  {
   "cell_type": "code",
   "execution_count": null,
   "id": "e338c054",
   "metadata": {},
   "outputs": [],
   "source": []
  },
  {
   "cell_type": "markdown",
   "id": "987a25a7",
   "metadata": {},
   "source": [
    "## Step 6"
   ]
  },
  {
   "cell_type": "code",
   "execution_count": 103,
   "id": "c37fbc10",
   "metadata": {},
   "outputs": [],
   "source": [
    "#If the portfolio was untouched (not rebalanced)\n",
    "\n",
    "monthly_data2 = monthly_data.copy()\n",
    "\n",
    "Portfolio2 = []\n",
    "\n",
    "for a in range(len(monthly_data2['Port'])):\n",
    "    a = monthly_data2['Equity'].iloc[a]+(monthly_data2['F.Income'].iloc[a])\n",
    "    sum_port = monthly_data2['Equity'].iloc[0]+(monthly_data2['F.Income'].iloc[0])\n",
    "    Portfolio2.append((a/sum_port)*100)\n",
    "\n",
    "monthly_data2['Port'] = Portfolio2\n",
    "\n"
   ]
  },
  {
   "cell_type": "code",
   "execution_count": 104,
   "id": "eeceaf1b",
   "metadata": {},
   "outputs": [
    {
     "data": {
      "text/html": [
       "<div>\n",
       "<style scoped>\n",
       "    .dataframe tbody tr th:only-of-type {\n",
       "        vertical-align: middle;\n",
       "    }\n",
       "\n",
       "    .dataframe tbody tr th {\n",
       "        vertical-align: top;\n",
       "    }\n",
       "\n",
       "    .dataframe thead th {\n",
       "        text-align: right;\n",
       "    }\n",
       "</style>\n",
       "<table border=\"1\" class=\"dataframe\">\n",
       "  <thead>\n",
       "    <tr style=\"text-align: right;\">\n",
       "      <th></th>\n",
       "      <th>Equity</th>\n",
       "      <th>F.Income</th>\n",
       "      <th>Port</th>\n",
       "    </tr>\n",
       "    <tr>\n",
       "      <th>Date</th>\n",
       "      <th></th>\n",
       "      <th></th>\n",
       "      <th></th>\n",
       "    </tr>\n",
       "  </thead>\n",
       "  <tbody>\n",
       "    <tr>\n",
       "      <th>2003-09-30</th>\n",
       "      <td>100.000000</td>\n",
       "      <td>100.000000</td>\n",
       "      <td>100.000000</td>\n",
       "    </tr>\n",
       "    <tr>\n",
       "      <th>2003-10-31</th>\n",
       "      <td>105.496149</td>\n",
       "      <td>99.065240</td>\n",
       "      <td>102.280695</td>\n",
       "    </tr>\n",
       "    <tr>\n",
       "      <th>2003-11-30</th>\n",
       "      <td>106.248180</td>\n",
       "      <td>99.396533</td>\n",
       "      <td>102.822357</td>\n",
       "    </tr>\n",
       "    <tr>\n",
       "      <th>2003-12-31</th>\n",
       "      <td>111.641917</td>\n",
       "      <td>100.369870</td>\n",
       "      <td>106.005894</td>\n",
       "    </tr>\n",
       "    <tr>\n",
       "      <th>2004-01-31</th>\n",
       "      <td>113.570690</td>\n",
       "      <td>100.812002</td>\n",
       "      <td>107.191346</td>\n",
       "    </tr>\n",
       "    <tr>\n",
       "      <th>...</th>\n",
       "      <td>...</td>\n",
       "      <td>...</td>\n",
       "      <td>...</td>\n",
       "    </tr>\n",
       "    <tr>\n",
       "      <th>2021-09-30</th>\n",
       "      <td>432.496963</td>\n",
       "      <td>198.369814</td>\n",
       "      <td>315.433388</td>\n",
       "    </tr>\n",
       "    <tr>\n",
       "      <th>2021-10-31</th>\n",
       "      <td>462.401478</td>\n",
       "      <td>198.352506</td>\n",
       "      <td>330.376992</td>\n",
       "    </tr>\n",
       "    <tr>\n",
       "      <th>2021-11-30</th>\n",
       "      <td>458.547948</td>\n",
       "      <td>198.889729</td>\n",
       "      <td>328.718839</td>\n",
       "    </tr>\n",
       "    <tr>\n",
       "      <th>2021-12-31</th>\n",
       "      <td>478.546543</td>\n",
       "      <td>198.176258</td>\n",
       "      <td>338.361400</td>\n",
       "    </tr>\n",
       "    <tr>\n",
       "      <th>2022-01-31</th>\n",
       "      <td>453.382130</td>\n",
       "      <td>194.215523</td>\n",
       "      <td>323.798827</td>\n",
       "    </tr>\n",
       "  </tbody>\n",
       "</table>\n",
       "<p>221 rows × 3 columns</p>\n",
       "</div>"
      ],
      "text/plain": [
       "                Equity    F.Income        Port\n",
       "Date                                          \n",
       "2003-09-30  100.000000  100.000000  100.000000\n",
       "2003-10-31  105.496149   99.065240  102.280695\n",
       "2003-11-30  106.248180   99.396533  102.822357\n",
       "2003-12-31  111.641917  100.369870  106.005894\n",
       "2004-01-31  113.570690  100.812002  107.191346\n",
       "...                ...         ...         ...\n",
       "2021-09-30  432.496963  198.369814  315.433388\n",
       "2021-10-31  462.401478  198.352506  330.376992\n",
       "2021-11-30  458.547948  198.889729  328.718839\n",
       "2021-12-31  478.546543  198.176258  338.361400\n",
       "2022-01-31  453.382130  194.215523  323.798827\n",
       "\n",
       "[221 rows x 3 columns]"
      ]
     },
     "execution_count": 104,
     "metadata": {},
     "output_type": "execute_result"
    }
   ],
   "source": [
    "monthly_data2"
   ]
  },
  {
   "cell_type": "code",
   "execution_count": null,
   "id": "e9040556",
   "metadata": {},
   "outputs": [],
   "source": []
  },
  {
   "cell_type": "code",
   "execution_count": 105,
   "id": "4316cc8a",
   "metadata": {},
   "outputs": [
    {
     "data": {
      "text/html": [
       "<div>\n",
       "<style scoped>\n",
       "    .dataframe tbody tr th:only-of-type {\n",
       "        vertical-align: middle;\n",
       "    }\n",
       "\n",
       "    .dataframe tbody tr th {\n",
       "        vertical-align: top;\n",
       "    }\n",
       "\n",
       "    .dataframe thead th {\n",
       "        text-align: right;\n",
       "    }\n",
       "</style>\n",
       "<table border=\"1\" class=\"dataframe\">\n",
       "  <thead>\n",
       "    <tr style=\"text-align: right;\">\n",
       "      <th></th>\n",
       "      <th>Equity_return</th>\n",
       "      <th>F.Income_return</th>\n",
       "      <th>Port_return</th>\n",
       "    </tr>\n",
       "  </thead>\n",
       "  <tbody>\n",
       "    <tr>\n",
       "      <th>0</th>\n",
       "      <td>0.053504</td>\n",
       "      <td>-0.009392</td>\n",
       "      <td>0.022551</td>\n",
       "    </tr>\n",
       "    <tr>\n",
       "      <th>1</th>\n",
       "      <td>0.007103</td>\n",
       "      <td>0.003339</td>\n",
       "      <td>0.005282</td>\n",
       "    </tr>\n",
       "    <tr>\n",
       "      <th>2</th>\n",
       "      <td>0.049519</td>\n",
       "      <td>0.009745</td>\n",
       "      <td>0.030492</td>\n",
       "    </tr>\n",
       "    <tr>\n",
       "      <th>3</th>\n",
       "      <td>0.017129</td>\n",
       "      <td>0.004395</td>\n",
       "      <td>0.011121</td>\n",
       "    </tr>\n",
       "    <tr>\n",
       "      <th>4</th>\n",
       "      <td>0.012135</td>\n",
       "      <td>0.011350</td>\n",
       "      <td>0.011766</td>\n",
       "    </tr>\n",
       "  </tbody>\n",
       "</table>\n",
       "</div>"
      ],
      "text/plain": [
       "   Equity_return  F.Income_return  Port_return\n",
       "0       0.053504        -0.009392     0.022551\n",
       "1       0.007103         0.003339     0.005282\n",
       "2       0.049519         0.009745     0.030492\n",
       "3       0.017129         0.004395     0.011121\n",
       "4       0.012135         0.011350     0.011766"
      ]
     },
     "execution_count": 105,
     "metadata": {},
     "output_type": "execute_result"
    }
   ],
   "source": [
    "#Compute the monthly return\n",
    "\n",
    "df_return2 = pd.DataFrame()\n",
    "\n",
    "for q in monthly_data2.columns[0:]:\n",
    "    new_stock2 = list(monthly_data2[q])\n",
    "    ret_stock2 = [0]*(len(new_stock2)-1)\n",
    "    for b in range(len(ret_stock2)):\n",
    "        ret_stock2[b] = np.log(new_stock2[b+1]/new_stock2[b])\n",
    "        df_return2[q+'_return'] = ret_stock2\n",
    "\n",
    "df_return2.head()"
   ]
  },
  {
   "cell_type": "code",
   "execution_count": 106,
   "id": "18964560",
   "metadata": {},
   "outputs": [
    {
     "data": {
      "text/html": [
       "<div>\n",
       "<style scoped>\n",
       "    .dataframe tbody tr th:only-of-type {\n",
       "        vertical-align: middle;\n",
       "    }\n",
       "\n",
       "    .dataframe tbody tr th {\n",
       "        vertical-align: top;\n",
       "    }\n",
       "\n",
       "    .dataframe thead th {\n",
       "        text-align: right;\n",
       "    }\n",
       "</style>\n",
       "<table border=\"1\" class=\"dataframe\">\n",
       "  <thead>\n",
       "    <tr style=\"text-align: right;\">\n",
       "      <th></th>\n",
       "      <th>Equity_return</th>\n",
       "      <th>F.Income_return</th>\n",
       "      <th>Port_return</th>\n",
       "    </tr>\n",
       "    <tr>\n",
       "      <th>Date</th>\n",
       "      <th></th>\n",
       "      <th></th>\n",
       "      <th></th>\n",
       "    </tr>\n",
       "  </thead>\n",
       "  <tbody>\n",
       "    <tr>\n",
       "      <th>2003-10-31</th>\n",
       "      <td>0.053504</td>\n",
       "      <td>-0.009392</td>\n",
       "      <td>0.022551</td>\n",
       "    </tr>\n",
       "    <tr>\n",
       "      <th>2003-11-30</th>\n",
       "      <td>0.007103</td>\n",
       "      <td>0.003339</td>\n",
       "      <td>0.005282</td>\n",
       "    </tr>\n",
       "    <tr>\n",
       "      <th>2003-12-31</th>\n",
       "      <td>0.049519</td>\n",
       "      <td>0.009745</td>\n",
       "      <td>0.030492</td>\n",
       "    </tr>\n",
       "    <tr>\n",
       "      <th>2004-01-31</th>\n",
       "      <td>0.017129</td>\n",
       "      <td>0.004395</td>\n",
       "      <td>0.011121</td>\n",
       "    </tr>\n",
       "    <tr>\n",
       "      <th>2004-02-29</th>\n",
       "      <td>0.012135</td>\n",
       "      <td>0.011350</td>\n",
       "      <td>0.011766</td>\n",
       "    </tr>\n",
       "  </tbody>\n",
       "</table>\n",
       "</div>"
      ],
      "text/plain": [
       "            Equity_return  F.Income_return  Port_return\n",
       "Date                                                   \n",
       "2003-10-31       0.053504        -0.009392     0.022551\n",
       "2003-11-30       0.007103         0.003339     0.005282\n",
       "2003-12-31       0.049519         0.009745     0.030492\n",
       "2004-01-31       0.017129         0.004395     0.011121\n",
       "2004-02-29       0.012135         0.011350     0.011766"
      ]
     },
     "execution_count": 106,
     "metadata": {},
     "output_type": "execute_result"
    }
   ],
   "source": [
    "#Put the relevant dates as the index\n",
    "df_return2.index = monthly_data2.index[1:221]\n",
    "\n",
    "df_return2.head()"
   ]
  },
  {
   "cell_type": "code",
   "execution_count": 107,
   "id": "327edabb",
   "metadata": {},
   "outputs": [
    {
     "name": "stdout",
     "output_type": "stream",
     "text": [
      "Volatility of both portfolio:  \n",
      "Untouched Portfolio:  0.022849867233194366 \n",
      "Rebalanced Portfolio:  0.026503520386058074 \n",
      "\n"
     ]
    },
    {
     "data": {
      "text/plain": [
       "[Text(0.5, 1.0, 'Distribution of rebalanced portfolio')]"
      ]
     },
     "execution_count": 107,
     "metadata": {},
     "output_type": "execute_result"
    },
    {
     "data": {
      "image/png": "[encoded data removed]",
      "text/plain": [
       "<Figure size 720x288 with 2 Axes>"
      ]
     },
     "metadata": {
      "needs_background": "light"
     },
     "output_type": "display_data"
    }
   ],
   "source": [
    "#Annualized return for untouched portfolio\n",
    "\n",
    "#Volatility of untouched portfolio\n",
    "sum_port_ret2 = sum(df_return2['Port_return'])\n",
    "len_port_ret2 = len(df_return2['Port_return'])\n",
    "mean_port_ret2 = sum_port_ret2/len_port_ret2\n",
    "\n",
    "\n",
    "\n",
    "port_var2 = sum([((d-mean_port_ret2)**2) for d in df_return2['Port_return']]) /len_port_ret2\n",
    "port_stdev2 = port_var2**0.5\n",
    "\n",
    "\n",
    "print('Volatility of both portfolio: ', '\\n'\n",
    "      'Untouched Portfolio: ', port_stdev2, '\\n'\n",
    "     'Rebalanced Portfolio: ', port_stdev, '\\n')\n",
    "\n",
    "#Plot the distribution of both portfolios\n",
    "fig, axs = plt.subplots(nrows=1, ncols=2, figsize=(10,4))\n",
    "\n",
    "sns.histplot(ax = axs[0], x = df_return2['Port_return'], kde=True, color = 'green').set(title = 'Distribution of untouched portfolio')\n",
    "\n",
    "sns.histplot(ax = axs[1], x = df_return1['Port_return'], kde=True, color = 'gold').set(title = 'Distribution of rebalanced portfolio')"
   ]
  },
  {
   "cell_type": "code",
   "execution_count": 108,
   "id": "2fb19016",
   "metadata": {},
   "outputs": [
    {
     "name": "stdout",
     "output_type": "stream",
     "text": [
      "2.720527259479943\n",
      "2.861772849102393\n"
     ]
    }
   ],
   "source": [
    "#find the peakedness of both distribution\n",
    "\n",
    "from scipy.stats import kurtosis\n",
    "\n",
    "print(kurtosis(df_return1['Port_return']))\n",
    "print(kurtosis(df_return2['Port_return']))"
   ]
  },
  {
   "cell_type": "code",
   "execution_count": 109,
   "id": "c9b72389",
   "metadata": {},
   "outputs": [
    {
     "name": "stderr",
     "output_type": "stream",
     "text": [
      "/Users/user/opt/anaconda3/lib/python3.8/site-packages/statsmodels/graphics/gofplots.py:993: UserWarning: marker is redundantly defined by the 'marker' keyword argument and the fmt string \"bo\" (-> marker='o'). The keyword argument will take precedence.\n",
      "  ax.plot(x, y, fmt, **plot_style)\n"
     ]
    },
    {
     "data": {
      "text/plain": [
       "Text(0.5, 1.0, 'Untouched Portfolio Return')"
      ]
     },
     "execution_count": 109,
     "metadata": {},
     "output_type": "execute_result"
    },
    {
     "data": {
      "image/png": "[encoded data removed]",
      "text/plain": [
       "<Figure size 432x288 with 1 Axes>"
      ]
     },
     "metadata": {
      "needs_background": "light"
     },
     "output_type": "display_data"
    }
   ],
   "source": [
    "#Plot qq plot\n",
    "\n",
    "qqplot(df_return2['Port_return'], line = 's')\n",
    "plt.title('Untouched Portfolio Return')"
   ]
  },
  {
   "cell_type": "code",
   "execution_count": 110,
   "id": "f630fb20",
   "metadata": {},
   "outputs": [
    {
     "data": {
      "text/plain": [
       "<AxesSubplot:xlabel='Date'>"
      ]
     },
     "execution_count": 110,
     "metadata": {},
     "output_type": "execute_result"
    },
    {
     "data": {
      "image/png": "[encoded data removed]",
      "text/plain": [
       "<Figure size 432x288 with 1 Axes>"
      ]
     },
     "metadata": {
      "needs_background": "light"
     },
     "output_type": "display_data"
    }
   ],
   "source": [
    "#Plot the wealth index of both rebalanced and untouched portfolios\n",
    "\n",
    "new_df_returns = pd.DataFrame()\n",
    "\n",
    "new_df_returns['Rebalanced'] = drawdown(monthly_data['Port'])[['Wealth']]\n",
    "new_df_returns['Untouched'] = drawdown(monthly_data2['Port'])[['Wealth']]\n",
    "\n",
    "new_df_returns.plot()"
   ]
  },
  {
   "cell_type": "markdown",
   "id": "d88f1c2e",
   "metadata": {},
   "source": [
    "# Summary and Key findings"
   ]
  },
  {
   "cell_type": "markdown",
   "id": "0b080e5b",
   "metadata": {},
   "source": [
    "The analysis started with importation of the required packages and data, thereafter, some necessary pre-processing was done to make it appropriate for analysis e.g. checking for NaN values, reformatting the date column to datetime format and indexing it. \n",
    "\n",
    "Next was to rebase the prices of equity, fixed income and the portfolio to $100, as that is the assumed amount invested. Based on the result, the monthly log returns were computed, and the sample was subsequently divided into halves. The first half gave an annualized mean return of 4.26%, which was lower than the second half of 9.39% and the entire sample mean return of 6.83%. However, compared to the second half and entire sample, the first half sample returns showed a strong correlation of 0.07, versus 0.03 and 0.05 of the second-half and full sample\n",
    "\n",
    "Furthermore, the distributions of returns of the equity, fixed income and portfolio returns appeared relatively normal, however, the equity returns distribution seemed more normally distributed. Regardless, it is negatively skewed and moderately peaked at -0.9 and 2.45 respectively, compared with the positively skewed but highly peaked fixed income return at 0.6 and 4.93 respectively. Expectedly, equities also had a higher volatility based on a standard deviation of 0.04, compared with 0.01 of fixed income. The portfolio had a volatility of 0.02\n",
    "\n",
    "To compute the drawdown, a function was defined, and the result revealed a max drawdown of 52.56%, 4.31% and 32.95% for the equity, fixed income, and overall portfolio. These drawdowns were between 2008 and 2009, highlighting the impact of the historic 2008-2009 global financial crisis. While the fixed income investment recovered in less than a year, it took 7.7 years before equity prices bounced back to its historical high. The recovery time for the overall portfolio was 6.2 years. \n",
    "\n",
    "To conclude the exercise, the 60/40 rebalanced portfolio was compared with one that was not rebalanced (untouched portfolio). Interestingly, the untouched portfolio had a slightly lower volatility of 0.022 vs 0.027 for the rebalanced. Also, the untouched portfolio seemed more peaked, with a kurtosis of 2.86 vs 2.72 of the rebalanced. Finally, when the price index of both portfolios are plotted, the trend seems largely in line, until about 2018, when a marginal deviation is observed between both portfolios. The rebalanced portfolio trended higher, highlighting diversification benefits. \n"
   ]
  },
  {
   "cell_type": "code",
   "execution_count": null,
   "id": "e98c26ef",
   "metadata": {},
   "outputs": [],
   "source": []
  },
  {
   "cell_type": "code",
   "execution_count": null,
   "id": "d7385699",
   "metadata": {},
   "outputs": [],
   "source": []
  },
  {
   "cell_type": "code",
   "execution_count": null,
   "id": "035e0e5d",
   "metadata": {},
   "outputs": [],
   "source": []
  }
 ],
 "metadata": {
  "kernelspec": {
   "display_name": "Python 3 (ipykernel)",
   "language": "python",
   "name": "python3"
  },
  "language_info": {
   "codemirror_mode": {
    "name": "ipython",
    "version": 3
   },
   "file_extension": ".py",
   "mimetype": "text/x-python",
   "name": "python",
   "nbconvert_exporter": "python",
   "pygments_lexer": "ipython3",
   "version": "3.8.8"
  }
 },
 "nbformat": 4,
 "nbformat_minor": 5
}
